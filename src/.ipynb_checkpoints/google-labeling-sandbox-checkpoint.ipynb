{
 "cells": [
  {
   "cell_type": "code",
   "execution_count": 19,
   "metadata": {
    "collapsed": false
   },
   "outputs": [
    {
     "name": "stdout",
     "output_type": "stream",
     "text": [
      "False\n"
     ]
    },
    {
     "ename": "ApplicationDefaultCredentialsError",
     "evalue": "The Application Default Credentials are not available. They are available if running in Google Compute Engine. Otherwise, the environment variable GOOGLE_APPLICATION_CREDENTIALS must be defined pointing to a file defining the credentials. See https://developers.google.com/accounts/docs/application-default-credentials for more information.",
     "output_type": "error",
     "traceback": [
      "\u001b[0;31m---------------------------------------------------------------------------\u001b[0m",
      "\u001b[0;31mApplicationDefaultCredentialsError\u001b[0m        Traceback (most recent call last)",
      "\u001b[0;32m<ipython-input-19-8057a0c0f053>\u001b[0m in \u001b[0;36m<module>\u001b[0;34m()\u001b[0m\n\u001b[1;32m     20\u001b[0m                            \u001b[0mscope\u001b[0m\u001b[1;33m=\u001b[0m\u001b[1;34m''\u001b[0m\u001b[1;33m,\u001b[0m\u001b[1;33m\u001b[0m\u001b[0m\n\u001b[1;32m     21\u001b[0m                            redirect_uri='')\n\u001b[0;32m---> 22\u001b[0;31m \u001b[0mcredentials\u001b[0m \u001b[1;33m=\u001b[0m \u001b[0mGoogleCredentials\u001b[0m\u001b[1;33m.\u001b[0m\u001b[0mget_application_default\u001b[0m\u001b[1;33m(\u001b[0m\u001b[1;33m)\u001b[0m\u001b[1;33m\u001b[0m\u001b[0m\n\u001b[0m\u001b[1;32m     23\u001b[0m \u001b[0mvision_client\u001b[0m \u001b[1;33m=\u001b[0m \u001b[0mvision\u001b[0m\u001b[1;33m.\u001b[0m\u001b[0mClient\u001b[0m\u001b[1;33m(\u001b[0m\u001b[0mproject\u001b[0m\u001b[1;33m=\u001b[0m\u001b[1;34m'gentle-impulse-169815'\u001b[0m\u001b[1;33m,\u001b[0m \u001b[0mcredentials\u001b[0m\u001b[1;33m=\u001b[0m\u001b[0mcredentials\u001b[0m\u001b[1;33m)\u001b[0m\u001b[1;33m\u001b[0m\u001b[0m\n\u001b[1;32m     24\u001b[0m \u001b[1;33m\u001b[0m\u001b[0m\n",
      "\u001b[0;32mC:\\Users\\Josu\\Anaconda3\\envs\\carnd-term1\\lib\\site-packages\\oauth2client\\client.py\u001b[0m in \u001b[0;36mget_application_default\u001b[0;34m()\u001b[0m\n\u001b[1;32m   1286\u001b[0m                                                 \u001b[0mfail\u001b[0m \u001b[0mto\u001b[0m \u001b[0mbe\u001b[0m \u001b[0mretrieved\u001b[0m\u001b[1;33m.\u001b[0m\u001b[1;33m\u001b[0m\u001b[0m\n\u001b[1;32m   1287\u001b[0m         \"\"\"\n\u001b[0;32m-> 1288\u001b[0;31m         \u001b[1;32mreturn\u001b[0m \u001b[0mGoogleCredentials\u001b[0m\u001b[1;33m.\u001b[0m\u001b[0m_get_implicit_credentials\u001b[0m\u001b[1;33m(\u001b[0m\u001b[1;33m)\u001b[0m\u001b[1;33m\u001b[0m\u001b[0m\n\u001b[0m\u001b[1;32m   1289\u001b[0m \u001b[1;33m\u001b[0m\u001b[0m\n\u001b[1;32m   1290\u001b[0m     \u001b[1;33m@\u001b[0m\u001b[0mstaticmethod\u001b[0m\u001b[1;33m\u001b[0m\u001b[0m\n",
      "\u001b[0;32mC:\\Users\\Josu\\Anaconda3\\envs\\carnd-term1\\lib\\site-packages\\oauth2client\\client.py\u001b[0m in \u001b[0;36m_get_implicit_credentials\u001b[0;34m(cls)\u001b[0m\n\u001b[1;32m   1276\u001b[0m \u001b[1;33m\u001b[0m\u001b[0m\n\u001b[1;32m   1277\u001b[0m         \u001b[1;31m# If no credentials, fail.\u001b[0m\u001b[1;33m\u001b[0m\u001b[1;33m\u001b[0m\u001b[0m\n\u001b[0;32m-> 1278\u001b[0;31m         \u001b[1;32mraise\u001b[0m \u001b[0mApplicationDefaultCredentialsError\u001b[0m\u001b[1;33m(\u001b[0m\u001b[0mADC_HELP_MSG\u001b[0m\u001b[1;33m)\u001b[0m\u001b[1;33m\u001b[0m\u001b[0m\n\u001b[0m\u001b[1;32m   1279\u001b[0m \u001b[1;33m\u001b[0m\u001b[0m\n\u001b[1;32m   1280\u001b[0m     \u001b[1;33m@\u001b[0m\u001b[0mstaticmethod\u001b[0m\u001b[1;33m\u001b[0m\u001b[0m\n",
      "\u001b[0;31mApplicationDefaultCredentialsError\u001b[0m: The Application Default Credentials are not available. They are available if running in Google Compute Engine. Otherwise, the environment variable GOOGLE_APPLICATION_CREDENTIALS must be defined pointing to a file defining the credentials. See https://developers.google.com/accounts/docs/application-default-credentials for more information."
     ]
    }
   ],
   "source": [
    "import io\n",
    "import os\n",
    "from oauth2client.client import GoogleCredentials\n",
    "#######################\n",
    "GOOGLE_CLOUD_SPEECH_CREDENTIALS_PATH = '../files/client_secret_770600883572-4q7cu8gfn8dnjk3k2s0i60pqru6e5vkq.apps.googleusercontent.com.json'\n",
    "#######################\n",
    "\n",
    "import os.path\n",
    "print(os.path.isfile(GOOGLE_CLOUD_SPEECH_CREDENTIALS_PATH))\n",
    "\n",
    "# Imports the Google Cloud client library\n",
    "from google.cloud import vision\n",
    "\n",
    "# Instantiates a client\n",
    "#vision_client = vision.Client.from_service_account_json(GOOGLE_CLOUD_SPEECH_CREDENTIALS_PATH)\n",
    "from oauth2client.client import OAuth2WebServerFlow\n",
    "\n",
    "flow = OAuth2WebServerFlow(client_id='770600883572-4q7cu8gfn8dnjk3k2s0i60pqru6e5vkq.apps.googleusercontent.como10VWgOQ9IWdQ67pKbiLndRh',\n",
    "                           client_secret='o10VWgOQ9IWdQ67pKbiLndRh',\n",
    "                           scope='',\n",
    "                           redirect_uri='')\n",
    "credentials = GoogleCredentials.get_application_default()\n",
    "vision_client = vision.Client(project='gentle-impulse-169815', credentials=credentials)\n",
    "\n",
    "# The name of the image file to annotate\n",
    "file_name = os.path.join(\n",
    "    os.path.dirname(__file__),\n",
    "    '../images/ferris-wheel.jpg')\n",
    "\n",
    "# Loads the image into memory\n",
    "with io.open(file_name, 'rb') as image_file:\n",
    "    content = image_file.read()\n",
    "    image = vision_client.image(\n",
    "        content=content)\n",
    "\n",
    "# Performs label detection on the image file\n",
    "labels = image.detect_labels()\n",
    "\n",
    "print('Labels:')\n",
    "for label in labels:\n",
    "    print(label.description)"
   ]
  },
  {
   "cell_type": "code",
   "execution_count": null,
   "metadata": {
    "collapsed": true
   },
   "outputs": [],
   "source": []
  }
 ],
 "metadata": {
  "kernelspec": {
   "display_name": "Python 3",
   "language": "python",
   "name": "python3"
  },
  "language_info": {
   "codemirror_mode": {
    "name": "ipython",
    "version": 3
   },
   "file_extension": ".py",
   "mimetype": "text/x-python",
   "name": "python",
   "nbconvert_exporter": "python",
   "pygments_lexer": "ipython3",
   "version": "3.5.2"
  },
  "widgets": {
   "state": {},
   "version": "1.1.2"
  }
 },
 "nbformat": 4,
 "nbformat_minor": 2
}
