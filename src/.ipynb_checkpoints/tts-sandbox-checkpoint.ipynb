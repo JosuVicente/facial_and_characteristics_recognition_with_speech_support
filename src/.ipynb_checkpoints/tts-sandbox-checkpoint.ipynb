{
 "cells": [
  {
   "cell_type": "code",
   "execution_count": 11,
   "metadata": {
    "collapsed": true
   },
   "outputs": [],
   "source": [
    "from gtts import gTTS\n",
    "LANG_PATH = '../lang/{0}/speech/{1}.mp3'\n",
    "\n",
    "tts = gTTS(text='Se ha detectado más de una persona, inténtelo de nuevo con una persona sólo por favor', lang='es', slow=False)\n",
    "tts.save(LANG_PATH.format('es', 'more_than_one_face'))\n",
    "tts = gTTS(text='There appears to be more than one person, try again with one person only please', lang='en', slow=False)\n",
    "tts.save(LANG_PATH.format('en', 'more_than_one_face'))\n",
    "\n",
    "tts = gTTS(text='ha sido guardado correctamente', lang='es', slow=False)\n",
    "tts.save(LANG_PATH.format('es', 'saved'))\n",
    "tts = gTTS(text='has been saved correctly', lang='en', slow=False)\n",
    "tts.save(LANG_PATH.format('en', 'saved'))\n",
    "\n",
    "tts = gTTS(text='diga el nombre de la persona detectada o cancelar después del pitido por favor', lang='es', slow=False)\n",
    "tts.save(LANG_PATH.format('es', 'who'))\n",
    "tts = gTTS(text='say the name of the person detected or cancel after the beep please', lang='en', slow=False)\n",
    "tts.save(LANG_PATH.format('en', 'who'))\n",
    "\n",
    "tts = gTTS(text='guardando', lang='es', slow=False)\n",
    "tts.save(LANG_PATH.format('es', 'saving'))\n",
    "tts = gTTS(text='saving', lang='en', slow=False)\n",
    "tts.save(LANG_PATH.format('en', 'saving'))\n",
    "\n",
    "tts = gTTS(text='un momento por favor', lang='es', slow=False)\n",
    "tts.save(LANG_PATH.format('es', 'one_moment'))\n",
    "tts = gTTS(text='one moment please', lang='en', slow=False)\n",
    "tts.save(LANG_PATH.format('en', 'one_moment'))\n",
    "\n",
    "tts = gTTS(text='lo siento, no he entendido bien', lang='es', slow=False)\n",
    "tts.save(LANG_PATH.format('es', 'not_understand'))\n",
    "tts = gTTS(text='sorry, I didn´t catch that', lang='en', slow=False)\n",
    "tts.save(LANG_PATH.format('en', 'not_understand'))\n",
    "\n",
    "tts = gTTS(text='cancelado', lang='es', slow=False)\n",
    "tts.save(LANG_PATH.format('es', 'canceled'))\n",
    "tts = gTTS(text='canceled', lang='en', slow=False)\n",
    "tts.save(LANG_PATH.format('en', 'canceled'))\n",
    "\n",
    "tts = gTTS(text='seleccione una opción. O diga: Comandos. Para oir una lista de comandos sonoros. O: Teclas. Para oir una lista de comandos de entrada.', lang='es', slow=False)\n",
    "tts.save(LANG_PATH.format('es', 'choose'))\n",
    "tts = gTTS(text='select an option. Or say Options to hear a list of available commands. Or say Keys to hear a list of available keys', lang='en', slow=False)\n",
    "tts.save(LANG_PATH.format('en', 'choose'))\n",
    "\n",
    "tts = gTTS(text='seleccione una opción', lang='es', slow=False)\n",
    "tts.save(LANG_PATH.format('es', 'choose_short'))\n",
    "tts = gTTS(text='select an option', lang='en', slow=False)\n",
    "tts.save(LANG_PATH.format('en', 'choose_short'))\n",
    "\n",
    "tts = gTTS(text='Diga: ¿Quién? Para obtener una descripción de las personas en la imagen. Diga: ¿Qué? Para obtener una descripción general de la imagen. Diga: Guardar. Para guardar en el sistema el nombre de la persona en la imagen. Diga: Idioma. Para cambiar el idioma al siguiente disponible. Diga: Cancelar. Para continuar o diga: Repetir: Para repetir las opciones. ', lang='es', slow=False)\n",
    "tts.save(LANG_PATH.format('es', 'commands'))\n",
    "tts = gTTS(text='Say: Who. To get a description of the people in the image. Say: What. To get a general description of the image. Say: Save. To save the name of the person in the image. Say: Language. To change the language. Say: Cancel. To continue. Say: Repeat. To repeat the list of available options', lang='en', slow=False)\n",
    "tts.save(LANG_PATH.format('en', 'commands'))\n",
    "\n",
    "tts = gTTS(text='Pulse \"A\". Para obtener una descripción de las personas en la imagen. Pulse \"Z\". Para obtener una descripción general de la imagen. Pulse \"S\". Para guardar en el sistema el nombre de la persona en la imagen. Pulse \"L\". Para cambiar el idioma al siguiente disponible. Pulse \"Q\". Para continuar o pulse: \"R\": Para repetir las opciones. ', lang='es', slow=False)\n",
    "tts.save(LANG_PATH.format('es', 'keys'))\n",
    "tts = gTTS(text='Press \"A\". To get a description of the people in the image. Press \"Z\". To get a general description of the image. Press \"S\". To save the name of the person in the image. Press \"L\". To change the language. Press \"Q\". To continue. Press \"R\". To repeat the list of available options', lang='en', slow=False)\n",
    "tts.save(LANG_PATH.format('en', 'keys'))\n",
    "\n",
    "tts = gTTS(text='Idioma cambiado a español', lang='es', slow=False)\n",
    "tts.save(LANG_PATH.format('es', 'lang_change'))\n",
    "tts = gTTS(text='Language has been changed to english', lang='en', slow=False)\n",
    "tts.save(LANG_PATH.format('en', 'lang_change'))\n",
    "\n",
    "tts = gTTS(text='De acuerdo', lang='es', slow=False)\n",
    "tts.save(LANG_PATH.format('es', 'ok'))\n",
    "tts = gTTS(text='OK', lang='en', slow=False)\n",
    "tts.save(LANG_PATH.format('en', 'ok'))\n",
    "\n",
    "tts = gTTS(text='Lo siento, no te he entendido', lang='es', slow=False)\n",
    "tts.save(LANG_PATH.format('es', 'sorry_understand'))\n",
    "tts = gTTS(text='Sorry, I didn not get that', lang='en', slow=False)\n",
    "tts.save(LANG_PATH.format('en', 'sorry_understand'))\n",
    "\n",
    "tts = gTTS(text='¿Quieres que repita las opciones disponibles?', lang='es', slow=False)\n",
    "tts.save(LANG_PATH.format('es', 'repeat_options'))\n",
    "tts = gTTS(text='Do you want me to repeat the available options?', lang='en', slow=False)\n",
    "tts.save(LANG_PATH.format('en', 'repeat_options'))\n",
    "\n",
    "tts = gTTS(text='Lo siento, no soy capaz de describir la imagen', lang='es', slow=False)\n",
    "tts.save(LANG_PATH.format('es', 'no_image'))\n",
    "tts = gTTS(text='Sorry, I cannot understand what''s in the image', lang='en', slow=False)\n",
    "tts.save(LANG_PATH.format('en', 'no_image'))\n",
    "\n"
   ]
  },
  {
   "cell_type": "code",
   "execution_count": 15,
   "metadata": {
    "collapsed": true
   },
   "outputs": [],
   "source": [
    "from gtts import gTTS\n",
    "tts = gTTS(text='Pulse, A. Para obtener una descripción de las personas en la imagen. Pulse \"Z\". Para obtener una descripción general de la imagen. Pulse \"S\". Para guardar en el sistema el nombre de la persona en la imagen. Pulse \"L\". Para cambiar el idioma al siguiente disponible. Pulse \"Q\". Para continuar o pulse: \"R\": Para repetir las opciones. ', lang='es', slow=False)\n",
    "tts.save(LANG_PATH.format('es', 'keys'))"
   ]
  },
  {
   "cell_type": "code",
   "execution_count": 8,
   "metadata": {},
   "outputs": [
    {
     "ename": "FileNotFoundError",
     "evalue": "[Errno 2] No such file or directory: 'en/man.wav'",
     "output_type": "error",
     "traceback": [
      "\u001b[1;31m---------------------------------------------------------------------------\u001b[0m",
      "\u001b[1;31mFileNotFoundError\u001b[0m                         Traceback (most recent call last)",
      "\u001b[1;32m<ipython-input-8-0baf6a841add>\u001b[0m in \u001b[0;36m<module>\u001b[1;34m()\u001b[0m\n\u001b[0;32m      5\u001b[0m \u001b[1;32mfor\u001b[0m \u001b[0mi\u001b[0m \u001b[1;32min\u001b[0m \u001b[0mrange\u001b[0m\u001b[1;33m(\u001b[0m\u001b[0mlen\u001b[0m\u001b[1;33m(\u001b[0m\u001b[0mwords\u001b[0m\u001b[1;33m)\u001b[0m\u001b[1;33m)\u001b[0m\u001b[1;33m:\u001b[0m\u001b[1;33m\u001b[0m\u001b[0m\n\u001b[0;32m      6\u001b[0m     \u001b[0mtts\u001b[0m \u001b[1;33m=\u001b[0m \u001b[0mgTTS\u001b[0m\u001b[1;33m(\u001b[0m\u001b[0mtext\u001b[0m\u001b[1;33m=\u001b[0m\u001b[0mwords\u001b[0m\u001b[1;33m[\u001b[0m\u001b[0mi\u001b[0m\u001b[1;33m]\u001b[0m\u001b[1;33m,\u001b[0m \u001b[0mlang\u001b[0m\u001b[1;33m=\u001b[0m\u001b[1;34m'en'\u001b[0m\u001b[1;33m,\u001b[0m \u001b[0mslow\u001b[0m\u001b[1;33m=\u001b[0m\u001b[1;32mFalse\u001b[0m\u001b[1;33m)\u001b[0m\u001b[1;33m\u001b[0m\u001b[0m\n\u001b[1;32m----> 7\u001b[1;33m     \u001b[0mtts\u001b[0m\u001b[1;33m.\u001b[0m\u001b[0msave\u001b[0m\u001b[1;33m(\u001b[0m\u001b[1;34m\"en/\"\u001b[0m \u001b[1;33m+\u001b[0m \u001b[0mwords\u001b[0m\u001b[1;33m[\u001b[0m\u001b[0mi\u001b[0m\u001b[1;33m]\u001b[0m \u001b[1;33m+\u001b[0m \u001b[1;34m\".wav\"\u001b[0m\u001b[1;33m)\u001b[0m\u001b[1;33m\u001b[0m\u001b[0m\n\u001b[0m\u001b[0;32m      8\u001b[0m     \u001b[0mtts\u001b[0m \u001b[1;33m=\u001b[0m \u001b[0mgTTS\u001b[0m\u001b[1;33m(\u001b[0m\u001b[0mtext\u001b[0m\u001b[1;33m=\u001b[0m\u001b[0mwords_es_h\u001b[0m\u001b[1;33m[\u001b[0m\u001b[0mi\u001b[0m\u001b[1;33m]\u001b[0m\u001b[1;33m,\u001b[0m \u001b[0mlang\u001b[0m\u001b[1;33m=\u001b[0m\u001b[1;34m'es'\u001b[0m\u001b[1;33m,\u001b[0m \u001b[0mslow\u001b[0m\u001b[1;33m=\u001b[0m\u001b[1;32mFalse\u001b[0m\u001b[1;33m)\u001b[0m\u001b[1;33m\u001b[0m\u001b[0m\n\u001b[0;32m      9\u001b[0m     \u001b[0mtts\u001b[0m\u001b[1;33m.\u001b[0m\u001b[0msave\u001b[0m\u001b[1;33m(\u001b[0m\u001b[1;34m\"esh/\"\u001b[0m \u001b[1;33m+\u001b[0m \u001b[0mwords\u001b[0m\u001b[1;33m[\u001b[0m\u001b[0mi\u001b[0m\u001b[1;33m]\u001b[0m \u001b[1;33m+\u001b[0m \u001b[1;34m\".wav\"\u001b[0m\u001b[1;33m)\u001b[0m\u001b[1;33m\u001b[0m\u001b[0m\n",
      "\u001b[1;32m~\\Anaconda3\\envs\\tfm\\lib\\site-packages\\gtts\\tts.py\u001b[0m in \u001b[0;36msave\u001b[1;34m(self, savefile)\u001b[0m\n\u001b[0;32m    108\u001b[0m     \u001b[1;32mdef\u001b[0m \u001b[0msave\u001b[0m\u001b[1;33m(\u001b[0m\u001b[0mself\u001b[0m\u001b[1;33m,\u001b[0m \u001b[0msavefile\u001b[0m\u001b[1;33m)\u001b[0m\u001b[1;33m:\u001b[0m\u001b[1;33m\u001b[0m\u001b[0m\n\u001b[0;32m    109\u001b[0m         \u001b[1;34m\"\"\" Do the Web request and save to `savefile` \"\"\"\u001b[0m\u001b[1;33m\u001b[0m\u001b[0m\n\u001b[1;32m--> 110\u001b[1;33m         \u001b[1;32mwith\u001b[0m \u001b[0mopen\u001b[0m\u001b[1;33m(\u001b[0m\u001b[0msavefile\u001b[0m\u001b[1;33m,\u001b[0m \u001b[1;34m'wb'\u001b[0m\u001b[1;33m)\u001b[0m \u001b[1;32mas\u001b[0m \u001b[0mf\u001b[0m\u001b[1;33m:\u001b[0m\u001b[1;33m\u001b[0m\u001b[0m\n\u001b[0m\u001b[0;32m    111\u001b[0m             \u001b[0mself\u001b[0m\u001b[1;33m.\u001b[0m\u001b[0mwrite_to_fp\u001b[0m\u001b[1;33m(\u001b[0m\u001b[0mf\u001b[0m\u001b[1;33m)\u001b[0m\u001b[1;33m\u001b[0m\u001b[0m\n\u001b[0;32m    112\u001b[0m \u001b[1;33m\u001b[0m\u001b[0m\n",
      "\u001b[1;31mFileNotFoundError\u001b[0m: [Errno 2] No such file or directory: 'en/man.wav'"
     ]
    }
   ],
   "source": [
    "words = ['man', 'woman', 'angry', 'disgust', 'happy', 'neutral', 'sad', 'surprise']\n",
    "words_es_h = ['hombre', 'mujer', 'enfadado', 'asqueado', 'contento', 'neutral', 'triste', 'sorprendido']\n",
    "words_es_m = ['hombre', 'mujer', 'enfadada', 'asqueada', 'contenta', 'neutral', 'triste', 'sorprendida']\n",
    "\n",
    "for i in range(len(words)):\n",
    "    tts = gTTS(text=words[i], lang='en', slow=False)\n",
    "    tts.save(\"en/\" + words[i] + \".wav\")\n",
    "    tts = gTTS(text=words_es_h[i], lang='es', slow=False)\n",
    "    tts.save(\"esh/\" + words[i] + \".wav\")\n",
    "    tts = gTTS(text=words_es_m[i], lang='es', slow=False)\n",
    "    tts.save(\"esm/\" + words[i] + \".wav\")\n",
    "    "
   ]
  },
  {
   "cell_type": "code",
   "execution_count": null,
   "metadata": {
    "collapsed": true
   },
   "outputs": [],
   "source": []
  }
 ],
 "metadata": {
  "anaconda-cloud": {},
  "kernelspec": {
   "display_name": "Python 3",
   "language": "python",
   "name": "python3"
  },
  "language_info": {
   "codemirror_mode": {
    "name": "ipython",
    "version": 3
   },
   "file_extension": ".py",
   "mimetype": "text/x-python",
   "name": "python",
   "nbconvert_exporter": "python",
   "pygments_lexer": "ipython3",
   "version": "3.5.2"
  },
  "widgets": {
   "state": {},
   "version": "1.1.2"
  }
 },
 "nbformat": 4,
 "nbformat_minor": 2
}
